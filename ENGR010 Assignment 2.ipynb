{
 "cells": [
  {
   "cell_type": "markdown",
   "id": "1df38f80",
   "metadata": {},
   "source": [
    "<h2 style=\"text-align:center\"><strong>Weekly Assignment 2: Driveway Cost Table</strong></h2>"
   ]
  },
  {
   "cell_type": "markdown",
   "id": "407fc340",
   "metadata": {},
   "source": [
    "<strong>1. Increment the width from 10 to 24 feet in increments of 2 feet</strong>"
   ]
  },
  {
   "cell_type": "markdown",
   "id": "db0e2ded",
   "metadata": {},
   "source": [
    "This calculates the cost of different driveways, ranging from widths of 10 to 24 feet, and displays them in a chart."
   ]
  },
  {
   "cell_type": "code",
   "execution_count": 32,
   "id": "5dabbdab",
   "metadata": {},
   "outputs": [
    {
     "name": "stdout",
     "output_type": "stream",
     "text": [
      "Estimated Cost($)\t\t\t\t\t\t\tWidth(ft)\n",
      "Length(ft)\t\t10 \t\t12 \t\t14 \t\t16 \t\t18 \t\t20 \t\t22 \t\t24\n",
      "10 \t\t\t235 \t\t282 \t\t329 \t\t376 \t\t423 \t\t470 \t\t517 \t\t564 \t\t\n",
      "11 \t\t\t258 \t\t310 \t\t362 \t\t413 \t\t465 \t\t517 \t\t568 \t\t620 \t\t\n",
      "12 \t\t\t282 \t\t338 \t\t395 \t\t451 \t\t507 \t\t564 \t\t620 \t\t676 \t\t\n",
      "13 \t\t\t305 \t\t366 \t\t427 \t\t488 \t\t550 \t\t611 \t\t672 \t\t733 \t\t\n",
      "14 \t\t\t329 \t\t395 \t\t460 \t\t526 \t\t592 \t\t658 \t\t723 \t\t789 \t\t\n",
      "15 \t\t\t352 \t\t423 \t\t493 \t\t564 \t\t634 \t\t705 \t\t775 \t\t845 \t\t\n",
      "16 \t\t\t376 \t\t451 \t\t526 \t\t601 \t\t676 \t\t752 \t\t827 \t\t902 \t\t\n",
      "17 \t\t\t399 \t\t479 \t\t559 \t\t639 \t\t719 \t\t798 \t\t878 \t\t958 \t\t\n",
      "18 \t\t\t423 \t\t507 \t\t592 \t\t676 \t\t761 \t\t845 \t\t930 \t\t1015 \t\t\n",
      "19 \t\t\t446 \t\t535 \t\t625 \t\t714 \t\t803 \t\t892 \t\t982 \t\t1071 \t\t\n",
      "20 \t\t\t470 \t\t564 \t\t658 \t\t752 \t\t845 \t\t939 \t\t1033 \t\t1127 \t\t\n",
      "21 \t\t\t493 \t\t592 \t\t690 \t\t789 \t\t888 \t\t986 \t\t1085 \t\t1184 \t\t\n",
      "22 \t\t\t517 \t\t620 \t\t723 \t\t827 \t\t930 \t\t1033 \t\t1137 \t\t1240 \t\t\n",
      "23 \t\t\t540 \t\t648 \t\t756 \t\t864 \t\t972 \t\t1080 \t\t1188 \t\t1296 \t\t\n",
      "24 \t\t\t564 \t\t676 \t\t789 \t\t902 \t\t1015 \t\t1127 \t\t1240 \t\t1353 \t\t\n",
      "25 \t\t\t587 \t\t705 \t\t822 \t\t939 \t\t1057 \t\t1174 \t\t1292 \t\t1409 \t\t\n",
      "26 \t\t\t611 \t\t733 \t\t855 \t\t977 \t\t1099 \t\t1221 \t\t1343 \t\t1465 \t\t\n",
      "27 \t\t\t634 \t\t761 \t\t888 \t\t1015 \t\t1141 \t\t1268 \t\t1395 \t\t1522 \t\t\n",
      "28 \t\t\t658 \t\t789 \t\t921 \t\t1052 \t\t1184 \t\t1315 \t\t1447 \t\t1578 \t\t\n",
      "29 \t\t\t681 \t\t817 \t\t953 \t\t1090 \t\t1226 \t\t1362 \t\t1498 \t\t1635 \t\t\n",
      "30 \t\t\t705 \t\t845 \t\t986 \t\t1127 \t\t1268 \t\t1409 \t\t1550 \t\t1691 \t\t\n"
     ]
    }
   ],
   "source": [
    "print('Estimated Cost($)\\t\\t\\t\\t\\t\\t\\tWidth(ft)')    #creates headings for costs and widths\n",
    "print('Length(ft)\\t\\t', end='')    #creates length column heading\n",
    "for width in range(10, 25, 2):         #creates headings for each width\n",
    "    if width == 24:\n",
    "        print(width)\n",
    "    else:\n",
    "        print(width, '\\t\\t', end='')      #prints widths for column headings\n",
    "for length in range(10, 31):\n",
    "    print(length, '\\t\\t\\t', end='')    #creates row names for each length\n",
    "    for width in range(10, 25, 2):\n",
    "        area_exact = length * width             #calculates cost of each driveway\n",
    "        waste = area_exact * .1\n",
    "        area_actual = area_exact + waste\n",
    "        bags_needed = area_actual / 2\n",
    "        cost = round(bags_needed * 4.27)\n",
    "        print(cost, '\\t\\t', end='')\n",
    "        if width == 24:\n",
    "            print()"
   ]
  },
  {
   "cell_type": "markdown",
   "id": "062c3626",
   "metadata": {},
   "source": [
    "<strong>2. Enter the data into a data structure</strong>"
   ]
  },
  {
   "cell_type": "markdown",
   "id": "1fcc9377",
   "metadata": {},
   "source": [
    "This code puts all the cost data from the previous chart into a nested list."
   ]
  },
  {
   "cell_type": "code",
   "execution_count": 33,
   "id": "8d20cab8",
   "metadata": {
    "scrolled": true
   },
   "outputs": [
    {
     "name": "stdout",
     "output_type": "stream",
     "text": [
      "[10, [235, 282, 329, 376, 423, 470, 517, 564], 11, [258, 310, 362, 413, 465, 517, 568, 620], 12, [282, 338, 395, 451, 507, 564, 620, 676], 13, [305, 366, 427, 488, 550, 611, 672, 733], 14, [329, 395, 460, 526, 592, 658, 723, 789], 15, [352, 423, 493, 564, 634, 705, 775, 845], 16, [376, 451, 526, 601, 676, 752, 827, 902], 17, [399, 479, 559, 639, 719, 798, 878, 958], 18, [423, 507, 592, 676, 761, 845, 930, 1015], 19, [446, 535, 625, 714, 803, 892, 982, 1071], 20, [470, 564, 658, 752, 845, 939, 1033, 1127], 21, [493, 592, 690, 789, 888, 986, 1085, 1184], 22, [517, 620, 723, 827, 930, 1033, 1137, 1240], 23, [540, 648, 756, 864, 972, 1080, 1188, 1296], 24, [564, 676, 789, 902, 1015, 1127, 1240, 1353], 25, [587, 705, 822, 939, 1057, 1174, 1292, 1409], 26, [611, 733, 855, 977, 1099, 1221, 1343, 1465], 27, [634, 761, 888, 1015, 1141, 1268, 1395, 1522], 28, [658, 789, 921, 1052, 1184, 1315, 1447, 1578], 29, [681, 817, 953, 1090, 1226, 1362, 1498, 1635], 30, [705, 845, 986, 1127, 1268, 1409, 1550, 1691]]\n"
     ]
    }
   ],
   "source": [
    "cost_list = []                          #establishes list of all costs\n",
    "costlist10 = []\n",
    "for length in range(10, 31):\n",
    "    cost_list.append(length)            #adds each length to list of costs\n",
    "    row_list = []                       #establishes list for each row of costs\n",
    "    for width in range(10, 25, 2):\n",
    "        area_exact = length * width     #calculates cost like previous code\n",
    "        waste = area_exact * .1\n",
    "        area_actual = area_exact + waste\n",
    "        bags_needed = area_actual / 2\n",
    "        cost = round(bags_needed * 4.27)\n",
    "        if width == 10:\n",
    "            costlist10.append(cost)\n",
    "        row_list.append(cost)\n",
    "    cost_list.append(row_list)           #adds each row of costs to full list of costs\n",
    "print(cost_list)"
   ]
  },
  {
   "cell_type": "markdown",
   "id": "e0fe7a2d",
   "metadata": {},
   "source": [
    "<strong>3. Driveway size for a fixed budget</strong>"
   ]
  },
  {
   "cell_type": "markdown",
   "id": "a2396dc0",
   "metadata": {},
   "source": [
    "Creates a function to determine the driveway that can be built with a specified budget."
   ]
  },
  {
   "cell_type": "code",
   "execution_count": 34,
   "id": "1bc28c46",
   "metadata": {},
   "outputs": [],
   "source": [
    "def getDriveway(budget):\n",
    "    min_cost = min(costlist10)      #finds min and max costs for 10 foot wide driveway\n",
    "    max_cost = max(costlist10)\n",
    "    mid_cost_list = []\n",
    "    if budget < min_cost:       #for small budget; determines how much money needed to build smallest driveway\n",
    "        money_needed = min_cost - budget\n",
    "        print('I am sorry, but you need $', money_needed, 'more to build a driveway.')\n",
    "    elif budget >= min_cost and budget <= max_cost:     #for medium budget; determines leftover money and size of driveway that can be built\n",
    "        width = 10\n",
    "        for length in range(10, 31):\n",
    "            area_exact = width * length\n",
    "            waste = area_exact * .1\n",
    "            area_actual = area_exact + waste\n",
    "            bags_needed = area_actual / 2\n",
    "            cost = round(bags_needed * 4.27)\n",
    "            mid_cost_list.append(cost)         #finds costs of 10 ft wide driveways and appends to list until budget reached\n",
    "            if cost > budget:                  #loop always calculates one extra cost, do this loop to reverse last calculation\n",
    "                L = length - 1\n",
    "                mid_cost_list.pop(-1)\n",
    "                break\n",
    "        max_mid_cost = max(mid_cost_list)      #finds the max cost medium budget can afford and determines leftover money\n",
    "        money_excess = budget - max_mid_cost\n",
    "        print('You can build a 10 x', L, 'driveway with $', money_excess, 'leftover.')\n",
    "    elif budget > max_cost:                    #for big budget; determines leftover money\n",
    "        money_excess = budget - max_cost\n",
    "        print('You can build a 10 x 30 driveway with $', money_excess, 'leftover.')"
   ]
  },
  {
   "cell_type": "code",
   "execution_count": 35,
   "id": "74fa6672",
   "metadata": {},
   "outputs": [
    {
     "name": "stdout",
     "output_type": "stream",
     "text": [
      "I am sorry, but you need $ 34 more to build a driveway.\n"
     ]
    }
   ],
   "source": [
    "getDriveway(201)"
   ]
  },
  {
   "cell_type": "code",
   "execution_count": 36,
   "id": "adca8864",
   "metadata": {},
   "outputs": [
    {
     "name": "stdout",
     "output_type": "stream",
     "text": [
      "You can build a 10 x 30 driveway with $ 188 leftover.\n"
     ]
    }
   ],
   "source": [
    "getDriveway(893)"
   ]
  },
  {
   "cell_type": "code",
   "execution_count": 37,
   "id": "82fb79d5",
   "metadata": {},
   "outputs": [
    {
     "name": "stdout",
     "output_type": "stream",
     "text": [
      "You can build a 10 x 19 driveway with $ 15 leftover.\n"
     ]
    }
   ],
   "source": [
    "getDriveway(461)"
   ]
  }
 ],
 "metadata": {
  "interpreter": {
   "hash": "529bac6e1310abc4c55a198df5575b5f41fbc9531f69d918edbd2d2b03a9f3f9"
  },
  "kernelspec": {
   "display_name": "Python 3.10.2 64-bit",
   "language": "python",
   "name": "python3"
  },
  "language_info": {
   "codemirror_mode": {
    "name": "ipython",
    "version": 3
   },
   "file_extension": ".py",
   "mimetype": "text/x-python",
   "name": "python",
   "nbconvert_exporter": "python",
   "pygments_lexer": "ipython3",
   "version": "3.10.2"
  }
 },
 "nbformat": 4,
 "nbformat_minor": 5
}
